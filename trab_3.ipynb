{
 "cells": [
  {
   "cell_type": "code",
   "execution_count": 1,
   "id": "0877237d",
   "metadata": {},
   "outputs": [],
   "source": [
    "import pandas as pd\n",
    "from pandas.api.types import is_numeric_dtype"
   ]
  },
  {
   "cell_type": "markdown",
   "id": "c26f0a2b",
   "metadata": {},
   "source": [
    "### Read File"
   ]
  },
  {
   "cell_type": "code",
   "execution_count": 2,
   "id": "3fd02247",
   "metadata": {
    "scrolled": true
   },
   "outputs": [
    {
     "name": "stdout",
     "output_type": "stream",
     "text": [
      "File ‘./.cache/Renal_GSE53757.csv’ already there; not retrieving.\r\n",
      "\r\n"
     ]
    }
   ],
   "source": [
    "!mkdir -p .cache\n",
    "!wget -nc -P ./.cache https://sbcb.inf.ufrgs.br/data/cumida/Genes/Renal/GSE53757/Renal_GSE53757.csv"
   ]
  },
  {
   "cell_type": "code",
   "execution_count": 3,
   "id": "f098c466",
   "metadata": {},
   "outputs": [],
   "source": [
    "dataframe = pd.read_csv('.cache/Renal_GSE53757.csv')"
   ]
  },
  {
   "cell_type": "markdown",
   "id": "d5dbcb63",
   "metadata": {},
   "source": [
    "### Z-Score Normalization"
   ]
  },
  {
   "cell_type": "code",
   "execution_count": 8,
   "id": "276b8d8c",
   "metadata": {},
   "outputs": [],
   "source": [
    "def normalize_by_zscore(data):\n",
    "    for x in data.columns:\n",
    "        column = data[x]\n",
    "        if is_numeric_dtype(column):\n",
    "            data[x] = (column - column.mean())/column.std()"
   ]
  },
  {
   "cell_type": "markdown",
   "id": "ecea010f",
   "metadata": {},
   "source": [
    "### Experimenting"
   ]
  },
  {
   "cell_type": "code",
   "execution_count": 5,
   "id": "cf5cb98d",
   "metadata": {},
   "outputs": [
    {
     "name": "stdout",
     "output_type": "stream",
     "text": [
      "     samples    type  1007_s_at   1053_at    117_at     121_at  1255_g_at  \\\n",
      "0         62   ccRCC   9.732061  7.251605  6.342055   9.515143   2.511348   \n",
      "1         64   ccRCC   9.693332  7.073368  7.099059   9.236704   2.368806   \n",
      "2         66   ccRCC   9.933633  6.782829  6.140410   9.922033   2.469306   \n",
      "3         68   ccRCC   9.219208  8.097120  7.066591   8.575163   2.681295   \n",
      "4         70   ccRCC  10.600143  7.103834  6.225211  10.379539   2.393158   \n",
      "..       ...     ...        ...       ...       ...        ...        ...   \n",
      "138      196  normal   9.645093  6.159655  5.626748  10.400072   2.629797   \n",
      "139      198  normal   9.677233  6.105239  5.823663  10.270961   2.724728   \n",
      "140      200  normal   9.566701  6.229518  5.418376  10.005329   2.775810   \n",
      "141      202  normal   9.436902  6.059776  5.516025  10.260835   2.589452   \n",
      "142      204  normal  10.260112  7.283437  7.083929   9.475827   2.778151   \n",
      "\n",
      "      1294_at   1316_at   1320_at  ...  AFFX-r2-Ec-bioD-3_at  \\\n",
      "0    7.204777  5.109239  4.345618  ...             13.010712   \n",
      "1    7.897657  5.271118  4.045068  ...             13.175571   \n",
      "2    7.544394  5.033225  4.366310  ...             13.009798   \n",
      "3    7.124211  4.869673  4.382089  ...             12.877853   \n",
      "4    7.176135  4.920854  4.651640  ...             12.193690   \n",
      "..        ...       ...       ...  ...                   ...   \n",
      "138  7.014437  4.974880  4.526106  ...             12.594975   \n",
      "139  7.389068  5.162541  4.434723  ...             12.505359   \n",
      "140  7.027084  5.074656  4.582659  ...             12.532014   \n",
      "141  6.904006  5.263496  4.581260  ...             12.622615   \n",
      "142  7.555514  5.174515  4.400968  ...             12.544391   \n",
      "\n",
      "     AFFX-r2-Ec-bioD-5_at  AFFX-r2-P1-cre-3_at  AFFX-r2-P1-cre-5_at  \\\n",
      "0               12.625276            14.232007            14.140995   \n",
      "1               12.780640            14.255111            14.246142   \n",
      "2               12.460858            14.267958            14.098140   \n",
      "3               12.304128            14.236970            13.994966   \n",
      "4               11.488492            13.878683            13.667954   \n",
      "..                    ...                  ...                  ...   \n",
      "138             11.815209            13.921482            13.820999   \n",
      "139             11.820148            13.920388            13.765051   \n",
      "140             11.960329            13.905910            13.763471   \n",
      "141             11.903416            13.945914            13.826425   \n",
      "142             12.041288            14.060599            13.894182   \n",
      "\n",
      "     AFFX-ThrX-3_at  AFFX-ThrX-5_at  AFFX-ThrX-M_at  AFFX-TrpnX-3_at  \\\n",
      "0          9.965724        8.100426        8.859505         2.431999   \n",
      "1          9.813475        7.530779        8.483367         2.478131   \n",
      "2         10.614793        8.783959        9.639353         2.614101   \n",
      "3         10.114575        7.983748        8.943351         2.533299   \n",
      "4         10.527176        8.224859        9.261765         2.339472   \n",
      "..              ...             ...             ...              ...   \n",
      "138       10.111632        7.735186        8.699293         2.554881   \n",
      "139       10.554611        8.342783        9.363930         2.438542   \n",
      "140       10.527136        7.801264        9.231464         2.413242   \n",
      "141       10.591308        8.731729        9.597734         2.407627   \n",
      "142       12.397452       10.962095       11.623987         2.519499   \n",
      "\n",
      "     AFFX-TrpnX-5_at  AFFX-TrpnX-M_at  \n",
      "0           2.773826         2.861197  \n",
      "1           2.870517         2.652345  \n",
      "2           2.898979         2.670999  \n",
      "3           2.610641         2.833422  \n",
      "4           2.673702         2.668617  \n",
      "..               ...              ...  \n",
      "138         2.862480         2.775361  \n",
      "139         2.855264         2.894952  \n",
      "140         2.669513         2.765621  \n",
      "141         2.894014         2.888310  \n",
      "142         3.033133         3.026842  \n",
      "\n",
      "[143 rows x 54677 columns]\n"
     ]
    }
   ],
   "source": [
    "print(dataframe)"
   ]
  },
  {
   "cell_type": "code",
   "execution_count": null,
   "id": "0dd72315",
   "metadata": {},
   "outputs": [],
   "source": [
    "normalize_by_zscore(dataframe)\n",
    "print(dataframe)"
   ]
  },
  {
   "cell_type": "code",
   "execution_count": null,
   "id": "ed0c8480",
   "metadata": {},
   "outputs": [],
   "source": []
  }
 ],
 "metadata": {
  "kernelspec": {
   "display_name": "Python 3 (ipykernel)",
   "language": "python",
   "name": "python3"
  },
  "language_info": {
   "codemirror_mode": {
    "name": "ipython",
    "version": 3
   },
   "file_extension": ".py",
   "mimetype": "text/x-python",
   "name": "python",
   "nbconvert_exporter": "python",
   "pygments_lexer": "ipython3",
   "version": "3.10.6"
  }
 },
 "nbformat": 4,
 "nbformat_minor": 5
}
